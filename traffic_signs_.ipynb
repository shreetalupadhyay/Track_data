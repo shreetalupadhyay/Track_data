{
  "nbformat": 4,
  "nbformat_minor": 0,
  "metadata": {
    "colab": {
      "name": "traffic_signs_.ipynb",
      "provenance": [],
      "collapsed_sections": []
    },
    "kernelspec": {
      "name": "python3",
      "display_name": "Python 3"
    }
  },
  "cells": [
    {
      "cell_type": "code",
      "metadata": {
        "id": "I42AGiaZHHbD",
        "colab_type": "code",
        "outputId": "dc984f4d-1aa6-4307-9594-782782676af5",
        "colab": {
          "base_uri": "https://localhost:8080/",
          "height": 34
        }
      },
      "source": [
        "!git clone https://bitbucket.org/jadslim/german-traffic-signs"
      ],
      "execution_count": 0,
      "outputs": [
        {
          "output_type": "stream",
          "text": [
            "fatal: destination path 'german-traffic-signs' already exists and is not an empty directory.\n"
          ],
          "name": "stdout"
        }
      ]
    },
    {
      "cell_type": "code",
      "metadata": {
        "id": "kTMO1HSHHIpq",
        "colab_type": "code",
        "outputId": "371208ba-60b2-4cc7-928c-2616f8d451aa",
        "colab": {
          "base_uri": "https://localhost:8080/",
          "height": 34
        }
      },
      "source": [
        "!ls german-traffic-signs/"
      ],
      "execution_count": 0,
      "outputs": [
        {
          "output_type": "stream",
          "text": [
            "signnames.csv  test.p  train.p\tvalid.p\n"
          ],
          "name": "stdout"
        }
      ]
    },
    {
      "cell_type": "code",
      "metadata": {
        "id": "C8uOnp94HKtA",
        "colab_type": "code",
        "colab": {}
      },
      "source": [
        "import warnings\n",
        "warnings.filterwarnings(\"ignore\")"
      ],
      "execution_count": 0,
      "outputs": []
    },
    {
      "cell_type": "code",
      "metadata": {
        "id": "vRJmY9T2HMqw",
        "colab_type": "code",
        "colab": {}
      },
      "source": [
        "\n",
        "import pickle\n",
        "\n",
        "import pandas as pd \n",
        "import numpy as np \n",
        "import matplotlib.pyplot as plt \n",
        "import random"
      ],
      "execution_count": 0,
      "outputs": []
    },
    {
      "cell_type": "code",
      "metadata": {
        "id": "2VdspGvaHO4j",
        "colab_type": "code",
        "outputId": "94c7edcd-f6b3-4bf3-cb11-95a3929619dc",
        "colab": {
          "base_uri": "https://localhost:8080/",
          "height": 34
        }
      },
      "source": [
        "with open('german-traffic-signs/train.p', 'rb') as f:\n",
        "    train = pickle.load(f)\n",
        "with open('german-traffic-signs/valid.p', 'rb') as f:\n",
        "     valid = pickle.load(f)\n",
        "# TODO: Load test data\n",
        "with open('german-traffic-signs/test.p', 'rb') as f:\n",
        "     test = pickle.load(f)\n",
        "print(type(train))\n",
        "\n",
        "X_train, y_train = train ['features'], train['labels']\n",
        "X_val, y_val = valid['features'], valid['labels']\n",
        "X_test, y_test = test['features'], test['labels']"
      ],
      "execution_count": 0,
      "outputs": [
        {
          "output_type": "stream",
          "text": [
            "<class 'dict'>\n"
          ],
          "name": "stdout"
        }
      ]
    },
    {
      "cell_type": "code",
      "metadata": {
        "id": "JwhYfa43HUX4",
        "colab_type": "code",
        "colab": {}
      },
      "source": [
        "X_train, y_train = train['features'], train['labels']\n",
        "X_validation, y_validation = valid['features'], valid['labels']\n",
        "X_test, y_test = test['features'], test['labels']\n"
      ],
      "execution_count": 0,
      "outputs": []
    },
    {
      "cell_type": "code",
      "metadata": {
        "id": "5s8MAN2fHW85",
        "colab_type": "code",
        "outputId": "1a5fc84e-0bb5-48c5-f591-b3fb3c6dfc9d",
        "colab": {
          "base_uri": "https://localhost:8080/",
          "height": 33
        }
      },
      "source": [
        "X_train.shape"
      ],
      "execution_count": 0,
      "outputs": [
        {
          "output_type": "execute_result",
          "data": {
            "text/plain": [
              "(34799, 32, 32, 3)"
            ]
          },
          "metadata": {
            "tags": []
          },
          "execution_count": 79
        }
      ]
    },
    {
      "cell_type": "code",
      "metadata": {
        "id": "HZ6j1uAxHYEH",
        "colab_type": "code",
        "outputId": "aef18bd8-e75d-4595-f8f5-084976c3edad",
        "colab": {
          "base_uri": "https://localhost:8080/",
          "height": 33
        }
      },
      "source": [
        "y_train.shape"
      ],
      "execution_count": 0,
      "outputs": [
        {
          "output_type": "execute_result",
          "data": {
            "text/plain": [
              "(34799,)"
            ]
          },
          "metadata": {
            "tags": []
          },
          "execution_count": 80
        }
      ]
    },
    {
      "cell_type": "code",
      "metadata": {
        "id": "JbpYnOC0QZau",
        "colab_type": "code",
        "colab": {}
      },
      "source": [
        "def process_newimage_file(name):\n",
        "    image = cv2.imread(name)\n",
        "    image = cv2.resize(image,(32,32))\n",
        "    image = cv2.cvtColor(image,cv2.COLOR_BGR2RGB)\n",
        "    image = image/255.-.5\n",
        "    return image"
      ],
      "execution_count": 0,
      "outputs": []
    },
    {
      "cell_type": "code",
      "metadata": {
        "id": "sRvJ4Zzyx3oS",
        "colab_type": "code",
        "outputId": "ef17e882-ff76-4901-bf24-a8c1d1a8e674",
        "colab": {
          "base_uri": "https://localhost:8080/",
          "height": 753
        }
      },
      "source": [
        "data = pd.read_csv('german-traffic-signs/signnames.csv')\n",
        "print(data)"
      ],
      "execution_count": 0,
      "outputs": [
        {
          "output_type": "stream",
          "text": [
            "    ClassId                                           SignName\n",
            "0         0                               Speed limit (20km/h)\n",
            "1         1                               Speed limit (30km/h)\n",
            "2         2                               Speed limit (50km/h)\n",
            "3         3                               Speed limit (60km/h)\n",
            "4         4                               Speed limit (70km/h)\n",
            "5         5                               Speed limit (80km/h)\n",
            "6         6                        End of speed limit (80km/h)\n",
            "7         7                              Speed limit (100km/h)\n",
            "8         8                              Speed limit (120km/h)\n",
            "9         9                                         No passing\n",
            "10       10       No passing for vechiles over 3.5 metric tons\n",
            "11       11              Right-of-way at the next intersection\n",
            "12       12                                      Priority road\n",
            "13       13                                              Yield\n",
            "14       14                                               Stop\n",
            "15       15                                        No vechiles\n",
            "16       16           Vechiles over 3.5 metric tons prohibited\n",
            "17       17                                           No entry\n",
            "18       18                                    General caution\n",
            "19       19                        Dangerous curve to the left\n",
            "20       20                       Dangerous curve to the right\n",
            "21       21                                       Double curve\n",
            "22       22                                         Bumpy road\n",
            "23       23                                      Slippery road\n",
            "24       24                          Road narrows on the right\n",
            "25       25                                          Road work\n",
            "26       26                                    Traffic signals\n",
            "27       27                                        Pedestrians\n",
            "28       28                                  Children crossing\n",
            "29       29                                  Bicycles crossing\n",
            "30       30                                 Beware of ice/snow\n",
            "31       31                              Wild animals crossing\n",
            "32       32                End of all speed and passing limits\n",
            "33       33                                   Turn right ahead\n",
            "34       34                                    Turn left ahead\n",
            "35       35                                         Ahead only\n",
            "36       36                               Go straight or right\n",
            "37       37                                Go straight or left\n",
            "38       38                                         Keep right\n",
            "39       39                                          Keep left\n",
            "40       40                               Roundabout mandatory\n",
            "41       41                                  End of no passing\n",
            "42       42  End of no passing by vechiles over 3.5 metric ...\n"
          ],
          "name": "stdout"
        }
      ]
    },
    {
      "cell_type": "code",
      "metadata": {
        "id": "pyyZpVyYHc_1",
        "colab_type": "code",
        "outputId": "d58d237c-5420-4e6c-91da-b30589535e43",
        "colab": {
          "base_uri": "https://localhost:8080/",
          "height": 283
        }
      },
      "source": [
        "i = 5001\n",
        "plt.imshow(X_train[i]) # Show images are not shuffled\n",
        "y_train[i]"
      ],
      "execution_count": 0,
      "outputs": [
        {
          "output_type": "execute_result",
          "data": {
            "text/plain": [
              "37"
            ]
          },
          "metadata": {
            "tags": []
          },
          "execution_count": 41
        },
        {
          "output_type": "display_data",
          "data": {
            "image/png": "[encoded data removed]",
            "text/plain": [
              "<Figure size 432x288 with 1 Axes>"
            ]
          },
          "metadata": {
            "tags": []
          }
        }
      ]
    },
    {
      "cell_type": "code",
      "metadata": {
        "id": "xT1MJcbjHdwf",
        "colab_type": "code",
        "colab": {}
      },
      "source": [
        "## Shuffle the dataset \n",
        "from sklearn.utils import shuffle\n",
        "X_train, y_train = shuffle(X_train, y_train)"
      ],
      "execution_count": 0,
      "outputs": []
    },
    {
      "cell_type": "code",
      "metadata": {
        "id": "yeO3d_URHgM7",
        "colab_type": "code",
        "colab": {}
      },
      "source": [
        "X_train_gray = np.sum(X_train/3, axis=3, keepdims=True)\n",
        "X_test_gray  = np.sum(X_test/3, axis=3, keepdims=True)\n",
        "X_validation_gray  = np.sum(X_validation/3, axis=3, keepdims=True) "
      ],
      "execution_count": 0,
      "outputs": []
    },
    {
      "cell_type": "code",
      "metadata": {
        "id": "P7Was8nVHiXl",
        "colab_type": "code",
        "colab": {}
      },
      "source": [
        "X_train_gray_norm = (X_train_gray - 128)/128 \n",
        "X_test_gray_norm = (X_test_gray - 128)/128\n",
        "X_validation_gray_norm = (X_validation_gray - 128)/128\n"
      ],
      "execution_count": 0,
      "outputs": []
    },
    {
      "cell_type": "code",
      "metadata": {
        "id": "rGrrOZEMHkpf",
        "colab_type": "code",
        "outputId": "e9d0f300-e6a3-48ee-9835-8ce588f08380",
        "colab": {
          "base_uri": "https://localhost:8080/",
          "height": 34
        }
      },
      "source": [
        "X_train_gray.shape"
      ],
      "execution_count": 0,
      "outputs": [
        {
          "output_type": "execute_result",
          "data": {
            "text/plain": [
              "(34799, 32, 32, 1)"
            ]
          },
          "metadata": {
            "tags": []
          },
          "execution_count": 45
        }
      ]
    },
    {
      "cell_type": "code",
      "metadata": {
        "id": "iGlO1uFUHm3I",
        "colab_type": "code",
        "outputId": "f90b0e9f-00ce-41bb-ecbe-5a60c78797f9",
        "colab": {
          "base_uri": "https://localhost:8080/",
          "height": 532
        }
      },
      "source": [
        "i = 610\n",
        "plt.imshow(X_train_gray[i].squeeze(), cmap='gray')\n",
        "plt.figure()\n",
        "plt.imshow(X_train[i])"
      ],
      "execution_count": 0,
      "outputs": [
        {
          "output_type": "execute_result",
          "data": {
            "text/plain": [
              "<matplotlib.image.AxesImage at 0x7fdcd18e3198>"
            ]
          },
          "metadata": {
            "tags": []
          },
          "execution_count": 46
        },
        {
          "output_type": "display_data",
          "data": {
            "image/png": "[encoded data removed]",
            "text/plain": [
              "<Figure size 432x288 with 1 Axes>"
            ]
          },
          "metadata": {
            "tags": []
          }
        },
        {
          "output_type": "display_data",
          "data": {
            "image/png": "[encoded data removed]",
            "text/plain": [
              "<Figure size 432x288 with 1 Axes>"
            ]
          },
          "metadata": {
            "tags": []
          }
        }
      ]
    },
    {
      "cell_type": "code",
      "metadata": {
        "id": "5Zmuw9DAHo5L",
        "colab_type": "code",
        "colab": {}
      },
      "source": [
        "# Import train_test_split from scikit library\n",
        "# Import Keras\n",
        "# import keras\n",
        "from keras.models import Sequential\n",
        "from keras.layers import Conv2D, MaxPooling2D, Dense, Flatten, Dropout\n",
        "from keras.optimizers import Adam\n",
        "from keras.callbacks import TensorBoard\n",
        "\n",
        "# from subprocess import check_output\n",
        "from sklearn.model_selection import train_test_split"
      ],
      "execution_count": 0,
      "outputs": []
    },
    {
      "cell_type": "code",
      "metadata": {
        "id": "ZUshOZEkHu4i",
        "colab_type": "code",
        "colab": {}
      },
      "source": [
        "image_shape = X_train_gray[i].shape"
      ],
      "execution_count": 0,
      "outputs": []
    },
    {
      "cell_type": "code",
      "metadata": {
        "id": "Go3zirClHr1V",
        "colab_type": "code",
        "colab": {}
      },
      "source": [
        "cnn_model = Sequential()\n",
        "cnn_model.add(Conv2D(32,3, 3, input_shape = image_shape, activation='relu'))\n",
        "cnn_model.add(Conv2D(32,3, 3, input_shape = image_shape, activation='relu'))\n",
        "cnn_model.add(MaxPooling2D(pool_size = (2, 2)))\n",
        "cnn_model.add(Flatten())\n",
        "cnn_model.add(Dropout(0.4))\n",
        "cnn_model.add(Dense(output_dim = 32, activation = 'relu'))\n",
        "\n",
        "cnn_model.add(Dense(output_dim = 43, activation = 'softmax'))"
      ],
      "execution_count": 0,
      "outputs": []
    },
    {
      "cell_type": "code",
      "metadata": {
        "id": "hnzukxwiHx-o",
        "colab_type": "code",
        "colab": {}
      },
      "source": [
        "cnn_model.compile(loss ='sparse_categorical_crossentropy', optimizer=Adam(lr=0.001),metrics =['accuracy'])"
      ],
      "execution_count": 0,
      "outputs": []
    },
    {
      "cell_type": "code",
      "metadata": {
        "id": "02TZ1UdbJNly",
        "colab_type": "code",
        "outputId": "94a2f747-d50b-4c7c-ab29-d077e43b7b29",
        "colab": {
          "base_uri": "https://localhost:8080/",
          "height": 1000
        }
      },
      "source": [
        "history = cnn_model.fit(X_train_gray_norm,\n",
        "                        y_train,\n",
        "                        batch_size=500,\n",
        "                        nb_epoch=50,\n",
        "                        verbose=1,\n",
        "                        validation_data = (X_validation_gray_norm,y_validation))"
      ],
      "execution_count": 0,
      "outputs": [
        {
          "output_type": "stream",
          "text": [
            "Train on 34799 samples, validate on 4410 samples\n",
            "Epoch 1/50\n",
            "34799/34799 [==============================] - 70s 2ms/step - loss: 2.8791 - acc: 0.2716 - val_loss: 2.0597 - val_acc: 0.4463\n",
            "Epoch 2/50\n",
            "34799/34799 [==============================] - 69s 2ms/step - loss: 1.2058 - acc: 0.6820 - val_loss: 0.8921 - val_acc: 0.7610\n",
            "Epoch 3/50\n",
            "34799/34799 [==============================] - 70s 2ms/step - loss: 0.5432 - acc: 0.8563 - val_loss: 0.6295 - val_acc: 0.8202\n",
            "Epoch 4/50\n",
            "34799/34799 [==============================] - 69s 2ms/step - loss: 0.3441 - acc: 0.9126 - val_loss: 0.5386 - val_acc: 0.8546\n",
            "Epoch 5/50\n",
            "34799/34799 [==============================] - 70s 2ms/step - loss: 0.2531 - acc: 0.9356 - val_loss: 0.4787 - val_acc: 0.8717\n",
            "Epoch 6/50\n",
            "34799/34799 [==============================] - 70s 2ms/step - loss: 0.1989 - acc: 0.9496 - val_loss: 0.4630 - val_acc: 0.8839\n",
            "Epoch 7/50\n",
            "34799/34799 [==============================] - 69s 2ms/step - loss: 0.1641 - acc: 0.9577 - val_loss: 0.4226 - val_acc: 0.8898\n",
            "Epoch 8/50\n",
            "34799/34799 [==============================] - 70s 2ms/step - loss: 0.1424 - acc: 0.9647 - val_loss: 0.4078 - val_acc: 0.9005\n",
            "Epoch 9/50\n",
            "34799/34799 [==============================] - 69s 2ms/step - loss: 0.1226 - acc: 0.9704 - val_loss: 0.4036 - val_acc: 0.8998\n",
            "Epoch 10/50\n",
            "34799/34799 [==============================] - 69s 2ms/step - loss: 0.1051 - acc: 0.9726 - val_loss: 0.3797 - val_acc: 0.9066\n",
            "Epoch 11/50\n",
            "34799/34799 [==============================] - 69s 2ms/step - loss: 0.0953 - acc: 0.9768 - val_loss: 0.3942 - val_acc: 0.9050\n",
            "Epoch 12/50\n",
            "34799/34799 [==============================] - 69s 2ms/step - loss: 0.0849 - acc: 0.9789 - val_loss: 0.3673 - val_acc: 0.9052\n",
            "Epoch 13/50\n",
            "34799/34799 [==============================] - 69s 2ms/step - loss: 0.0777 - acc: 0.9800 - val_loss: 0.3590 - val_acc: 0.9068\n",
            "Epoch 14/50\n",
            "34799/34799 [==============================] - 69s 2ms/step - loss: 0.0725 - acc: 0.9814 - val_loss: 0.3394 - val_acc: 0.9172\n",
            "Epoch 15/50\n",
            "34799/34799 [==============================] - 69s 2ms/step - loss: 0.0668 - acc: 0.9823 - val_loss: 0.3805 - val_acc: 0.9113\n",
            "Epoch 16/50\n",
            "34799/34799 [==============================] - 69s 2ms/step - loss: 0.0604 - acc: 0.9844 - val_loss: 0.3489 - val_acc: 0.9154\n",
            "Epoch 17/50\n",
            "34799/34799 [==============================] - 69s 2ms/step - loss: 0.0570 - acc: 0.9857 - val_loss: 0.3529 - val_acc: 0.9170\n",
            "Epoch 18/50\n",
            "34799/34799 [==============================] - 69s 2ms/step - loss: 0.0494 - acc: 0.9866 - val_loss: 0.3503 - val_acc: 0.9193\n",
            "Epoch 19/50\n",
            "34799/34799 [==============================] - 69s 2ms/step - loss: 0.0484 - acc: 0.9868 - val_loss: 0.3320 - val_acc: 0.9224\n",
            "Epoch 20/50\n",
            "34799/34799 [==============================] - 69s 2ms/step - loss: 0.0441 - acc: 0.9889 - val_loss: 0.3506 - val_acc: 0.9227\n",
            "Epoch 21/50\n",
            "34799/34799 [==============================] - 69s 2ms/step - loss: 0.0406 - acc: 0.9894 - val_loss: 0.3288 - val_acc: 0.9254\n",
            "Epoch 22/50\n",
            "34799/34799 [==============================] - 69s 2ms/step - loss: 0.0398 - acc: 0.9895 - val_loss: 0.2807 - val_acc: 0.9336\n",
            "Epoch 23/50\n",
            "34799/34799 [==============================] - 69s 2ms/step - loss: 0.0372 - acc: 0.9907 - val_loss: 0.3063 - val_acc: 0.9340\n",
            "Epoch 24/50\n",
            "34799/34799 [==============================] - 70s 2ms/step - loss: 0.0333 - acc: 0.9918 - val_loss: 0.3488 - val_acc: 0.9220\n",
            "Epoch 25/50\n",
            "34799/34799 [==============================] - 70s 2ms/step - loss: 0.0341 - acc: 0.9910 - val_loss: 0.3425 - val_acc: 0.9247\n",
            "Epoch 26/50\n",
            "34799/34799 [==============================] - 70s 2ms/step - loss: 0.0328 - acc: 0.9914 - val_loss: 0.3110 - val_acc: 0.9299\n",
            "Epoch 27/50\n",
            "34799/34799 [==============================] - 69s 2ms/step - loss: 0.0307 - acc: 0.9920 - val_loss: 0.3080 - val_acc: 0.9320\n",
            "Epoch 28/50\n",
            "34799/34799 [==============================] - 69s 2ms/step - loss: 0.0277 - acc: 0.9930 - val_loss: 0.3026 - val_acc: 0.9320\n",
            "Epoch 29/50\n",
            "34799/34799 [==============================] - 69s 2ms/step - loss: 0.0260 - acc: 0.9929 - val_loss: 0.3505 - val_acc: 0.9288\n",
            "Epoch 30/50\n",
            "34799/34799 [==============================] - 69s 2ms/step - loss: 0.0263 - acc: 0.9933 - val_loss: 0.2949 - val_acc: 0.9320\n",
            "Epoch 31/50\n",
            "34799/34799 [==============================] - 69s 2ms/step - loss: 0.0264 - acc: 0.9936 - val_loss: 0.3087 - val_acc: 0.9327\n",
            "Epoch 32/50\n",
            "34799/34799 [==============================] - 69s 2ms/step - loss: 0.0239 - acc: 0.9934 - val_loss: 0.3599 - val_acc: 0.9272\n",
            "Epoch 33/50\n",
            "34799/34799 [==============================] - 69s 2ms/step - loss: 0.0254 - acc: 0.9936 - val_loss: 0.3025 - val_acc: 0.9327\n",
            "Epoch 34/50\n",
            "34799/34799 [==============================] - 69s 2ms/step - loss: 0.0224 - acc: 0.9941 - val_loss: 0.2940 - val_acc: 0.9390\n",
            "Epoch 35/50\n",
            "34799/34799 [==============================] - 69s 2ms/step - loss: 0.0215 - acc: 0.9949 - val_loss: 0.2706 - val_acc: 0.9406\n",
            "Epoch 36/50\n",
            "34799/34799 [==============================] - 69s 2ms/step - loss: 0.0196 - acc: 0.9952 - val_loss: 0.3043 - val_acc: 0.9381\n",
            "Epoch 37/50\n",
            "34799/34799 [==============================] - 70s 2ms/step - loss: 0.0192 - acc: 0.9951 - val_loss: 0.3021 - val_acc: 0.9381\n",
            "Epoch 38/50\n",
            "34799/34799 [==============================] - 70s 2ms/step - loss: 0.0198 - acc: 0.9947 - val_loss: 0.3041 - val_acc: 0.9365\n",
            "Epoch 39/50\n",
            "34799/34799 [==============================] - 70s 2ms/step - loss: 0.0202 - acc: 0.9946 - val_loss: 0.2984 - val_acc: 0.9388\n",
            "Epoch 40/50\n",
            "34799/34799 [==============================] - 69s 2ms/step - loss: 0.0176 - acc: 0.9950 - val_loss: 0.3066 - val_acc: 0.9392\n",
            "Epoch 41/50\n",
            "34799/34799 [==============================] - 69s 2ms/step - loss: 0.0178 - acc: 0.9953 - val_loss: 0.3084 - val_acc: 0.9383\n",
            "Epoch 42/50\n",
            "34799/34799 [==============================] - 69s 2ms/step - loss: 0.0184 - acc: 0.9953 - val_loss: 0.2995 - val_acc: 0.9397\n",
            "Epoch 43/50\n",
            "34799/34799 [==============================] - 70s 2ms/step - loss: 0.0168 - acc: 0.9955 - val_loss: 0.2751 - val_acc: 0.9454\n",
            "Epoch 44/50\n",
            "34799/34799 [==============================] - 70s 2ms/step - loss: 0.0151 - acc: 0.9959 - val_loss: 0.2929 - val_acc: 0.9397\n",
            "Epoch 45/50\n",
            "34799/34799 [==============================] - 70s 2ms/step - loss: 0.0163 - acc: 0.9953 - val_loss: 0.3114 - val_acc: 0.9361\n",
            "Epoch 46/50\n",
            "34799/34799 [==============================] - 70s 2ms/step - loss: 0.0154 - acc: 0.9960 - val_loss: 0.3096 - val_acc: 0.9385\n",
            "Epoch 47/50\n",
            "34799/34799 [==============================] - 69s 2ms/step - loss: 0.0165 - acc: 0.9955 - val_loss: 0.3262 - val_acc: 0.9365\n",
            "Epoch 48/50\n",
            "34799/34799 [==============================] - 69s 2ms/step - loss: 0.0164 - acc: 0.9960 - val_loss: 0.2882 - val_acc: 0.9456\n",
            "Epoch 49/50\n",
            "34799/34799 [==============================] - 69s 2ms/step - loss: 0.0140 - acc: 0.9968 - val_loss: 0.3050 - val_acc: 0.9358\n",
            "Epoch 50/50\n",
            "34799/34799 [==============================] - 69s 2ms/step - loss: 0.0150 - acc: 0.9957 - val_loss: 0.3132 - val_acc: 0.9404\n"
          ],
          "name": "stdout"
        }
      ]
    },
    {
      "cell_type": "code",
      "metadata": {
        "id": "LPHRzHpvJTtz",
        "colab_type": "code",
        "outputId": "ce7506e4-f7ac-4c66-ccb7-45e204131a3d",
        "colab": {
          "base_uri": "https://localhost:8080/",
          "height": 51
        }
      },
      "source": [
        "score = cnn_model.evaluate(X_test_gray_norm, y_test,verbose=0)\n",
        "\n",
        "print('Test score:', score[0])\n",
        "\n",
        "print('Test Accuracy : {:.4f}'.format(score[1]))"
      ],
      "execution_count": 0,
      "outputs": [
        {
          "output_type": "stream",
          "text": [
            "Test score: 0.3058023150592913\n",
            "Test Accuracy : 0.9361\n"
          ],
          "name": "stdout"
        }
      ]
    },
    {
      "cell_type": "code",
      "metadata": {
        "id": "xJOoQg-3JWe7",
        "colab_type": "code",
        "outputId": "13960df6-2a8d-4df1-84c1-06a1500b6b65",
        "colab": {
          "base_uri": "https://localhost:8080/",
          "height": 545
        }
      },
      "source": [
        "import matplotlib.pyplot as plt\n",
        "%matplotlib inline\n",
        "accuracy = history.history['acc']\n",
        "val_accuracy = history.history['val_acc']\n",
        "loss = history.history['loss']\n",
        "val_loss = history.history['val_loss']\n",
        "epochs = range(len(accuracy))\n",
        "plt.plot(epochs, accuracy, 'bo', label='Training Accuracy')\n",
        "plt.plot(epochs, val_accuracy, 'b', label='Validation Accuracy')\n",
        "plt.title('Training and Validation accuracy')\n",
        "plt.legend()\n",
        "plt.figure()\n",
        "plt.plot(epochs, loss, 'bo', label='Training Loss')\n",
        "plt.plot(epochs, val_loss, 'b', label='Validation Loss')\n",
        "plt.title('Training and validation loss')\n",
        "plt.legend()\n",
        "plt.show()"
      ],
      "execution_count": 0,
      "outputs": [
        {
          "output_type": "display_data",
          "data": {
            "image/png": "[encoded data removed]",
            "text/plain": [
              "<Figure size 432x288 with 1 Axes>"
            ]
          },
          "metadata": {
            "tags": []
          }
        },
        {
          "output_type": "display_data",
          "data": {
            "image/png": "[encoded data removed]",
            "text/plain": [
              "<Figure size 432x288 with 1 Axes>"
            ]
          },
          "metadata": {
            "tags": []
          }
        }
      ]
    },
    {
      "cell_type": "code",
      "metadata": {
        "id": "ZTQ65OubJXoj",
        "colab_type": "code",
        "colab": {}
      },
      "source": [
        "#get the predictions for the test data\n",
        "predicted_classes = cnn_model.predict_classes(X_test_gray_norm)\n",
        "#get the indices to be plotted\n",
        "y_true = y_test\n"
      ],
      "execution_count": 0,
      "outputs": []
    },
    {
      "cell_type": "code",
      "metadata": {
        "id": "_WXx4qrMJbt0",
        "colab_type": "code",
        "outputId": "d161fcc3-5e0f-4a6a-ef24-cbe3036708c5",
        "colab": {
          "base_uri": "https://localhost:8080/",
          "height": 136
        }
      },
      "source": [
        "from sklearn.metrics import confusion_matrix\n",
        "cm = confusion_matrix(y_true, predicted_classes)\n",
        "cm"
      ],
      "execution_count": 0,
      "outputs": [
        {
          "output_type": "execute_result",
          "data": {
            "text/plain": [
              "array([[ 53,   4,   0, ...,   0,   0,   0],\n",
              "       [  4, 693,  13, ...,   0,   0,   0],\n",
              "       [  0,   6, 741, ...,   0,   0,   0],\n",
              "       ...,\n",
              "       [  0,   1,   0, ...,  80,   0,   0],\n",
              "       [  0,   0,   0, ...,   0,  33,   0],\n",
              "       [  0,   0,   0, ...,   0,  14,  73]])"
            ]
          },
          "metadata": {
            "tags": []
          },
          "execution_count": 61
        }
      ]
    },
    {
      "cell_type": "markdown",
      "metadata": {
        "id": "zE6laQdGKA1S",
        "colab_type": "text"
      },
      "source": [
        ""
      ]
    },
    {
      "cell_type": "code",
      "metadata": {
        "id": "2MtCb09zJcoF",
        "colab_type": "code",
        "outputId": "1e4c8340-ad5f-4343-a7a7-9bf35315adbc",
        "colab": {
          "base_uri": "https://localhost:8080/",
          "height": 297
        }
      },
      "source": [
        "for i in range(0,12):\n",
        "    plt.subplot(4,3,i+1)\n",
        "    plt.imshow(X_test_gray_norm[i+10].squeeze(), cmap='gray', interpolation='none')\n",
        "    plt.title(\"Predicted {}, Class {}\".format(predicted_classes[i+10], y_true[i+10]))\n",
        "    plt.tight_layout()"
      ],
      "execution_count": 0,
      "outputs": [
        {
          "output_type": "display_data",
          "data": {
            "image/png": "[encoded data removed]",
            "text/plain": [
              "<Figure size 432x288 with 12 Axes>"
            ]
          },
          "metadata": {
            "tags": []
          }
        }
      ]
    }
  ]
}